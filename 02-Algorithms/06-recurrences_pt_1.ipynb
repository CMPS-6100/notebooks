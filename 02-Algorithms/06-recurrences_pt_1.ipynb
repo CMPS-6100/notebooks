{
 "cells": [
  {
   "cell_type": "markdown",
   "metadata": {},
   "source": [
    "# Recurrences\n",
    "\n",
    "We have already seen our first recurrence in our recursive analysis of selection sort. A **recurrence** expresses the behavior of and allows us to analyze recursive algorithms. Since many algorithms can be expressed and implemented recursively, recurrences are very useful for algorithm analysis.\n",
    "\n",
    "In this section, we will explore recurrences more fully and outline techniques which can be used to solve them."
   ]
  },
  {
   "attachments": {},
   "cell_type": "markdown",
   "metadata": {},
   "source": [
    "# Recursive Searching\n",
    "\n",
    "In our last notebook, we explored fundamental concepts for parallel algorithms through the lense of a divide and conquer recursive search algorithm.\n",
    "\n",
    "**Recap**\n",
    "\n",
    "At every step, the algorithm recursively searched through the left and right halfs of the list, returning `True` if the left half or right half contained the `key`."
   ]
  },
  {
   "cell_type": "code",
   "execution_count": 1,
   "metadata": {},
   "outputs": [
    {
     "data": {
      "text/plain": [
       "True"
      ]
     },
     "execution_count": 1,
     "metadata": {},
     "output_type": "execute_result"
    }
   ],
   "source": [
    "def search_DC(lst, key):\n",
    "    if len(lst) == 0:\n",
    "        return False\n",
    "    if len(lst) == 1:\n",
    "        return lst[0] == key\n",
    "\n",
    "    mid = len(lst)//2\n",
    "    return search_DC(lst[:mid], key) or search_DC(lst[mid:], key)\n",
    "\n",
    "lst = [4, 5, 2, 6, 1, 0, 3, 7]\n",
    "search_DC(lst, 3)"
   ]
  },
  {
   "attachments": {},
   "cell_type": "markdown",
   "metadata": {},
   "source": [
    "We analyzed `search_DC` by drawing out its computation graph and considering the total work done across it and the length of the longest path through it to determine its **work**. \n",
    "\n",
    "We can can alternatively (although very closely related!) analyze it by determining and solving its recurrences."
   ]
  },
  {
   "attachments": {},
   "cell_type": "markdown",
   "metadata": {},
   "source": [
    "### Work Recurrence\n",
    "\n",
    "We can note that each call recursively runs two searches on lists half of the size of the input. Outside of the recursive calls themselves, each function does constant time work.\n",
    "\n",
    "From this, we can write a recurrence for the total work of the algorithm.\n",
    "\n",
    "Given a list of size $n$, the work of `search_DC` is:\n",
    "\n",
    "$W(n) = 2W(n/2) + O(1)$\n",
    "\n",
    "Before we get into how to solve this recurrence, let's quickly talk about the general form for all recurrences."
   ]
  },
  {
   "attachments": {},
   "cell_type": "markdown",
   "metadata": {},
   "source": [
    "# General Recurrences\n",
    "\n",
    "Above, there were three key facts that we used to write down the recurrence:\n",
    "\n",
    "1) The number of subproblems generated at every step\n",
    "2) The size of each subproblem\n",
    "3) The work within each function outside of the recursive calls\n",
    "\n",
    "> The last part is often referred to as the cost of the combination step, but it can include other work as well, such as the cost of splitting the problem into parts. In `search_DC`, the combination step is the taking of the `or` of the results of the two recursive calls.\n",
    "\n",
    "The general form of a recurrence is:\n",
    "\n",
    "$$W(n) = aW(\\frac{n}{b}) + f(n)$$\n",
    "\n",
    "- $a$ is the number of subproblems.\n",
    "- $b$ is our division factor. $\\frac{n}{b}$ gives us the sub-problem size at the next level.\n",
    "- $f(n)$ is the cost of the work within each function call."
   ]
  },
  {
   "attachments": {},
   "cell_type": "markdown",
   "metadata": {},
   "source": [
    "# Solving Recurrences\n",
    "\n",
    "## Recursion Trees\n",
    "\n",
    "We saw that we can analyze the work and span of recursive algorithms by examining the tree of their recursive calls.\n",
    "\n",
    "<img src = \"figures/search_recursive-recursion_tree.jpeg\" width = \"100%\">"
   ]
  },
  {
   "attachments": {},
   "cell_type": "markdown",
   "metadata": {},
   "source": [
    "We also saw that we can express the behavior of recursive algorithms as recurrences and we've established a general form for recurrences. \n",
    "\n",
    "$$W(n) = aW(\\frac{n}{b}) + f(n)$$"
   ]
  },
  {
   "attachments": {},
   "cell_type": "markdown",
   "metadata": {},
   "source": [
    "> What would the specific form of the recurrence be for our `search_DC` algorithm from our parallelism notes?"
   ]
  },
  {
   "attachments": {},
   "cell_type": "markdown",
   "metadata": {},
   "source": [
    "### Generalizing the Recursion Tree Approach\n",
    "\n",
    "Now, let's generalize this recursion tree approach so that we can work from any general recurrence.\n",
    "\n",
    "There were two factors of `search_DC` that determined the structure of its recursion tree:\n",
    "\n",
    "1) Every function call made two recursive calls\n",
    "\n",
    "2) Each successive call was on a problem half the size\n"
   ]
  },
  {
   "attachments": {},
   "cell_type": "markdown",
   "metadata": {},
   "source": [
    "\n",
    "The first factor meant that the branching factor of our tree was $2$.\n",
    "\n",
    "The second factor determined the depth of the tree. Since the original problem was of size $n$, how many times can we divide $n$ by $2$ before we get down to problems of size $1$? That is the total number of levels in the tree.\n",
    "\n",
    "In this case, the number of levels is $\\log_2 n + 1$ or for simplicity, just $\\log_2 n$ (that extra 1 won't matter asymptotically and will only muck up the math).\n",
    "\n",
    "> If each recursive call decreased the problem size by $1/3$, the depth of the tree would be $\\log_3 n$. More generally, if each recursive call decreased the problem size by $1/b$, the depth of the tree would be $\\log_b n$."
   ]
  },
  {
   "cell_type": "markdown",
   "metadata": {},
   "source": [
    "\n",
    "These two factors correspond to the $a$ and $b$ of our general recurrence,\n",
    "\n",
    "$$W(n) = aW(\\frac{n}{b}) + f(n)$$\n",
    "\n",
    "but they alone don't determine the total work required by the algorithm.\n"
   ]
  },
  {
   "attachments": {},
   "cell_type": "markdown",
   "metadata": {},
   "source": [
    "\n",
    "The work within each function call is also required. For `search_DC`, $f(n)$ is of the order $O(1)$ which was why the total number of calls in the recursion tree was all that was needed to do the analysis. Since every call does constant work, the total work is just the number of calls times some constant, and we end up dropping the constant in the analysis.\n",
    "\n",
    "We have everything we need to write down the recurrence for `search_DC`. `search_DC` searches for a key by recursively searching the left and right halves of the list. If the key is in either half, then it is in the list. \n",
    "\n",
    "To put it in terms of a recurrence, at every step, `search_DC` generates two subproblems, each half of the size. The work within each function call is constant:\n",
    "\n",
    "$W(n) = 2W(\\frac{n}{2}) + 1$\n",
    "\n",
    "> Technically, it would be more accurate to write $W(n) = 2W(\\frac{n}{2}) + c$, but we'll opt for simplicity. Whether the actual work within each function call is literally 1 operation or some other constant $c$ number of operations won't affect our analysis."
   ]
  },
  {
   "attachments": {},
   "cell_type": "markdown",
   "metadata": {},
   "source": [
    "### The Recursion Tree\n",
    "\n",
    "We previously drew out the computation graph for `search_DC` for a specific instance of that problem. \n",
    "\n",
    "We can draw out its recursion tree more generally, in a way that we can apply to any recursive algorithm.\n",
    "\n",
    "Our goal is to account for the work done across the entire recursion tree since that is exactly the work done by the entire algorithm."
   ]
  },
  {
   "attachments": {},
   "cell_type": "markdown",
   "metadata": {},
   "source": [
    "\n",
    "<img src = \"figures/recursion-tree-general-1.jpeg\" width = \"100%\">"
   ]
  },
  {
   "attachments": {},
   "cell_type": "markdown",
   "metadata": {},
   "source": [
    "### Drawing a general Recursion Tree\n",
    "\n",
    "In a recursion tree, each node corresponds to a function call, and the terms within the nodes represent the sizes of the problems for each of those calls. \n",
    "\n",
    "The root node is the original function call on the whole problem which is why its size is $n$. It makes two recursive calls, each on problems half of the size of the the original, and so on.\n",
    "\n",
    "On the right, we write down the work done across each level. Why? So that we can sum up all levels to determine the work over the tree.\n",
    "\n",
    "For this example, every function call does a constant amount of work, which we are representing with a cost of $1$. Thus the work across each level works out to be the number of nodes on that level.\n",
    "\n",
    "> If the work within the function calls were more costly, we would have different values for the work of each level. If we represent the work done within each function call as $f(n)$, then the work across each level is $\\text{num\\_nodes}*f(m)$ where $m$ is the size of the problems at that level. We will see examples of this later. "
   ]
  },
  {
   "attachments": {},
   "cell_type": "markdown",
   "metadata": {},
   "source": [
    "### Using the Recusion Tree to Calculate Work\n",
    "\n",
    "Our goal is the sum up the work across the whole tree. This is just the sum of the work over all levels.\n",
    "\n",
    "We start by generalizing the work over each level so that we can write a summation.\n",
    "\n",
    "We can notice above that the work down the levels follows a very predictable pattern:"
   ]
  },
  {
   "attachments": {},
   "cell_type": "markdown",
   "metadata": {},
   "source": [
    "<img src = \"figures/recursion-tree-general-2.jpeg\" width = \"100%\">"
   ]
  },
  {
   "attachments": {},
   "cell_type": "markdown",
   "metadata": {},
   "source": [
    "The pattern corresponds of course to the number of nodes on each level.\n",
    "\n",
    "Since our branching factor is 2, the number of nodes on level $i$ is $2^i$.\n",
    "\n",
    "> In general, for a tree with a branching factor of $a$, the the number of nodes on level $i$ is $a^i$"
   ]
  },
  {
   "attachments": {},
   "cell_type": "markdown",
   "metadata": {},
   "source": [
    "For this tree, the work done on each level is thus $2^i$, and we can write down a summation to express the work over the whole tree."
   ]
  },
  {
   "attachments": {},
   "cell_type": "markdown",
   "metadata": {},
   "source": [
    "<img src = \"figures/recursion-tree-general-3.jpeg\" width = \"100%\">"
   ]
  },
  {
   "attachments": {},
   "cell_type": "markdown",
   "metadata": {},
   "source": [
    "The $\\log_2 n$ at the top of the summation is because $i = \\log_2 n$ for the bottom level of the tree.\n",
    "\n",
    "> For a general recurrence with a division factor of $b$, the bottom level of the tree is level $\\log_b n$."
   ]
  },
  {
   "attachments": {},
   "cell_type": "markdown",
   "metadata": {},
   "source": [
    "### Solving the Summation\n",
    "\n",
    "Now, all we have to do is solve the summation. This step of the process usually involves using the rules for logarithms, exponents, and series to simplify and solve the summation.\n"
   ]
  },
  {
   "attachments": {},
   "cell_type": "markdown",
   "metadata": {},
   "source": [
    "\n",
    "> For your reference, here are some useful properties of [Logs, Exponents, and Series](reference/logs-exponents-series.md) ([PDF](reference/logs-exponents-series.pdf)). I keep a printed copy of this file on my desk, and sometimes in my back pocket.\n"
   ]
  },
  {
   "cell_type": "markdown",
   "metadata": {},
   "source": [
    "\n",
    "For $W(n) = \\sum_{i=0}^{\\log_2 n} 2^i$, we can use **geometric series**."
   ]
  },
  {
   "attachments": {},
   "cell_type": "markdown",
   "metadata": {},
   "source": [
    "> To solve this, we'll make use of bounds for **geometric series**. \n",
    ">\n",
    "> - For $\\alpha > 1$: $\\:\\:\\: \\sum_{i=0}^n \\alpha^i  < \\frac{\\alpha}{\\alpha - 1}\\cdot\\alpha^n$\n",
    "> <br>\n",
    ">\n",
    ">- For $\\alpha < 1$: $\\:\\:\\: \\sum_{i=0}^\\infty \\alpha^i  < \\frac{1}{1-\\alpha}$\n",
    "><br>\n",
    ">"
   ]
  },
  {
   "attachments": {},
   "cell_type": "markdown",
   "metadata": {},
   "source": [
    "$$\n",
    "\\begin{align}\n",
    "W(n) &= \\sum_{i=0}^{\\log_2 n} 2^i \\\\\n",
    "&< \\frac{2}{2-1}*2^{\\log_2 n} \\\\\n",
    "&= 2*2^{\\log_2 n} \\\\\n",
    "&= 2*n \\\\\n",
    "&\\in \\Theta(n)\n",
    "\\end{align}\n",
    "$$\n"
   ]
  },
  {
   "attachments": {},
   "cell_type": "markdown",
   "metadata": {},
   "source": [
    "# Recap\n",
    "\n",
    "To summarize, the process for solving recurrences using Recursion Trees is:\n",
    "\n",
    "1) Draw out the tree for 2-3 levels\n",
    "2) Determine the generalized cost for each level $i$\n",
    "3) Determine the number of levels\n",
    "4) Solve the summation $\\sum_{i=0}^{\\text{num\\_levels}}(\\text{cost\\_for\\_level\\_i})$\n",
    "\n",
    "Admittedly, our examples had simple summations to solve. Individual recurrences can be easier or harder to solve based on the difficulty of evaluating their summation."
   ]
  },
  {
   "attachments": {},
   "cell_type": "markdown",
   "metadata": {},
   "source": [
    "# General Example\n",
    "\n",
    "As you've seen, recurrences are very general and we can specify them without knowning the details of the algorithm. \n",
    "\n",
    "For example, suppose you had an algorithm which at every step generated four subproblems of half of the size and required quadratic work within each function call?\n",
    "\n",
    "We can write down the recurrence as:\n",
    "\n",
    "$$W(n) = 4W(n/2) + n^2$$"
   ]
  },
  {
   "attachments": {},
   "cell_type": "markdown",
   "metadata": {},
   "source": [
    "Its tree looks like:\n",
    "\n",
    "<img src = \"figures/quadratic-recurrence.jpeg\" width = \"100%\">"
   ]
  },
  {
   "attachments": {},
   "cell_type": "markdown",
   "metadata": {},
   "source": [
    "### Generalized Work Per Level\n",
    "\n",
    "Note that the work across each level is:\n",
    "\n",
    "$\\text{num\\_nodes}*\\text{work\\_done\\_in\\_each\\_node}$\n",
    "\n",
    "On the second level, since there are $4$ nodes, the size of the problem in each node is $n/2$, and the work within each function call is $n^2$, the work of that level is:\n",
    "\n",
    "$4*(\\frac{n}{2})^2$\n",
    "\n",
    "More generally, the work on each level is:\n",
    "\n",
    "$4^i*\\frac{n^2}{4^i}$\n",
    "\n",
    "The $4^i$ terms cancel out and each level ends up requiring exactly $n^2$ work.\n"
   ]
  },
  {
   "cell_type": "markdown",
   "metadata": {},
   "source": [
    "\n",
    "### Number of Levels\n",
    "\n",
    "The number of levels is $\\log_2 n$.\n"
   ]
  },
  {
   "attachments": {},
   "cell_type": "markdown",
   "metadata": {},
   "source": [
    "\n",
    "### Work Across Whole Tree\n",
    "\n",
    "The work across the whole tree is:\n",
    "\n",
    "$$\n",
    "\\begin{align}\n",
    "W(n) &= \\sum_{i=0}^{\\log_2 n} n^2 \\\\\n",
    "&= n^2 \\log_2 n \\\\\n",
    "&\\in \\Theta(n^2 \\log_2 n)\n",
    "\\end{align}\n",
    "$$"
   ]
  },
  {
   "attachments": {},
   "cell_type": "markdown",
   "metadata": {},
   "source": [
    "## Example: Binary Search\n",
    "\n",
    "We've spent quite a bit of time using `search_DC` as our example to illustrate the ideas for solving recurrences.\n",
    "\n",
    "Recall that `search_DC` solves the following problem:\n",
    "\n",
    "Given a list (possible unsorted) and a key, return `True` if that key is in the list, `False` otherwise.\n",
    "\n",
    "### Searching over a sorted list\n",
    "\n",
    "What if instead, we were given a sorted list? We can leverage this information to come up with a more efficient algorithm. The trick is that with a sorted list, at every step, we can make a single recursive call to find the answer, rather than two.\n",
    "\n",
    "Come up with an algorithm to solve this problem, write down its recurrence, and solve for its runtime."
   ]
  },
  {
   "cell_type": "code",
   "execution_count": null,
   "metadata": {},
   "outputs": [],
   "source": []
  },
  {
   "attachments": {},
   "cell_type": "markdown",
   "metadata": {},
   "source": [
    "# Practice\n",
    "\n",
    "For practice applying the Recursion Tree Method, solve the following recurrences:\n",
    "\n",
    "- $W(n) = 3 W(n/2) + n$\n",
    "\n",
    "- $W(n) = 2 W(n/3) + n$\n",
    "\n",
    "- $W(n) = 3 W(n/3) + n$\n",
    "\n",
    "- $W(n) = 2 W(n/2) + \\sqrt n$\n",
    "\n",
    "- $W(n) = 2 W(n/2) + n^2$\n",
    "\n",
    "- $W(n) = W(n - 1) + n$\n",
    "\n",
    "- $W(n) = W(\\sqrt n) + 1$\n",
    "\n",
    "This last two are interesting. The penultimate one is the first recurrence we saw. It is the recurrence for selection sort! \n",
    "\n",
    "When considering both of these from the perspective of a recursion tree, they don't have clean $b$ terms for the division factor. To solve them, we need to consider what the depth of their trees will be. We can then use that information to solve them.\n",
    "\n",
    "This shows that even if a recurrence isn't in our idealized general form, we can still solve it by applying the general concept: summing the work over all levels of the tree."
   ]
  },
  {
   "attachments": {},
   "cell_type": "markdown",
   "metadata": {},
   "source": [
    "# Reference: Logs, Exponents, & Series\n",
    "\n",
    "This was referenced above, but for your benefit, here is a set of handy properties for Logs, Exponents, and Series. These come in extremely useful when solving recurrences.\n",
    "\n",
    "- [logs-exponents-series.md](reference/logs-exponents-series.md) \n",
    "\n",
    "- [logs-exponents-series.pdf](reference/logs-exponents-series.pdf)\n",
    "\n",
    "I recommend printing out a copy for easy reference while solving recurrences!"
   ]
  }
 ],
 "metadata": {
  "kernelspec": {
   "display_name": "Python 3.9.6 64-bit",
   "language": "python",
   "name": "python3"
  },
  "language_info": {
   "codemirror_mode": {
    "name": "ipython",
    "version": 3
   },
   "file_extension": ".py",
   "mimetype": "text/x-python",
   "name": "python",
   "nbconvert_exporter": "python",
   "pygments_lexer": "ipython3",
   "version": "3.9.6 (v3.9.6:db3ff76da1, Jun 28 2021, 11:49:53) \n[Clang 6.0 (clang-600.0.57)]"
  },
  "orig_nbformat": 4,
  "vscode": {
   "interpreter": {
    "hash": "aee8b7b246df8f9039afb4144a1f6fd8d2ca17a180786b69acc140d282b71a49"
   }
  }
 },
 "nbformat": 4,
 "nbformat_minor": 2
}
