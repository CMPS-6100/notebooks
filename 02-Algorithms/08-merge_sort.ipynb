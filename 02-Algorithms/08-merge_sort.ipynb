{
 "cells": [
  {
   "cell_type": "markdown",
   "metadata": {},
   "source": [
    "# Efficient Sorting\n",
    "\n",
    "In this section, we will pull together everything we have learned in this algorithms module. **Merge Sort** is a parallelizable, divide and conquer algorithm which achieves the optimal time for general sorting algorithms."
   ]
  },
  {
   "attachments": {},
   "cell_type": "markdown",
   "metadata": {},
   "source": [
    "## Sorting\n",
    "\n",
    "We previously solved the sorting problem using Selection Sort. For every index in the list, this algorithm selects the element that belongs there and switches it into place. \n",
    "\n",
    "Here is the recursive implementation we gave to introduce recurrences."
   ]
  },
  {
   "cell_type": "code",
   "execution_count": null,
   "metadata": {},
   "outputs": [],
   "source": [
    "def selection_sort_recursive(L):\n",
    "    print('L={}'.format(L))\n",
    "    if (len(L) == 1):\n",
    "        return(L)\n",
    "    else:\n",
    "        m = L.index(min(L))\n",
    "        L[0], L[m] = L[m], L[0]\n",
    "        return [L[0]] + selection_sort_recursive(L[1:])\n",
    "    \n",
    "selection_sort_recursive([2, 1, 999, 4, 3])"
   ]
  },
  {
   "attachments": {},
   "cell_type": "markdown",
   "metadata": {},
   "source": [
    "We analyzed its runtime, finding that the work done by selection sort is $W(n) \\in \\Theta(n^2)$.\n"
   ]
  },
  {
   "attachments": {},
   "cell_type": "markdown",
   "metadata": {},
   "source": [
    "## Applying Divide and Conquer to Search\n",
    "\n",
    "When we studied the searching problem, we saw that we were able to gain some advantage by applying a divide and conquer approach.\n",
    "\n",
    "### Linear Search\n",
    "\n",
    "One strategy for solving the searching problem is to examine every element in turn:"
   ]
  },
  {
   "cell_type": "code",
   "execution_count": 1,
   "metadata": {},
   "outputs": [
    {
     "data": {
      "text/plain": [
       "True"
      ]
     },
     "execution_count": 1,
     "metadata": {},
     "output_type": "execute_result"
    }
   ],
   "source": [
    "def linear_search(lst, key):\n",
    "    for element in lst:\n",
    "        if element == key:\n",
    "            return True\n",
    "    return False\n",
    "\n",
    "linear_search([2, 1, 999, 4, 3], 3)"
   ]
  },
  {
   "attachments": {},
   "cell_type": "markdown",
   "metadata": {},
   "source": [
    "Linear Search, as a sequential algorithm, has the same work:\n",
    "\n",
    "$W(n) \\in \\Theta(n)$"
   ]
  },
  {
   "attachments": {},
   "cell_type": "markdown",
   "metadata": {},
   "source": [
    "### Divide and Conquer Search\n",
    "\n",
    "An alternative strategy is to divide the list into two halves, search each half, and then combine the results to get the final answer. This is a classic divide and conquer approach.\n",
    "\n",
    "Here is our divide and conquer `search_DC`:"
   ]
  },
  {
   "cell_type": "code",
   "execution_count": 2,
   "metadata": {},
   "outputs": [
    {
     "data": {
      "text/plain": [
       "True"
      ]
     },
     "execution_count": 2,
     "metadata": {},
     "output_type": "execute_result"
    }
   ],
   "source": [
    "def search_DC(lst, key):\n",
    "    if len(lst) == 0:\n",
    "        return False\n",
    "    if len(lst) == 1:\n",
    "        return lst[0] == key\n",
    "\n",
    "    mid = len(lst)//2\n",
    "    return search_DC(lst[:mid], key) or search_DC(lst[mid:], key)\n",
    "\n",
    "lst = [4, 7, 2, 8, 1, 0, 3, 9, 5, 6]\n",
    "search_DC(lst, 3)"
   ]
  },
  {
   "attachments": {},
   "cell_type": "markdown",
   "metadata": {},
   "source": [
    "We analyzed `search_DC`'s work:\n",
    "\n",
    "$W(n) \\in \\Theta(n)$"
   ]
  },
  {
   "attachments": {},
   "cell_type": "markdown",
   "metadata": {},
   "source": [
    "## Applying Divide and Conquer to Sorting\n",
    "\n",
    "Since we were able to apply divide and conquer to searching, can we also do so for sorting?\n"
   ]
  },
  {
   "attachments": {},
   "cell_type": "markdown",
   "metadata": {},
   "source": [
    "### Algorithm Design\n",
    "\n",
    "Starting with the whole list, we can divide it into two halves. If we then recursively sort each half, we can merge the sorted halves back together to get the fully sorted list.\n",
    "\n",
    "Since this is a recursive algorithm what is the base case?\n",
    "\n",
    "I think you will agree that lists of size $1$ or $0$ are by definition sorted.\n",
    "\n",
    "With this, we can sketch out our divide and conquer sorting algorithm. We haven't gotten to the details of merging sorted lists, so we will use `merge` as a placeholder function call for it. \n",
    "\n",
    "We'll call our sorting algorithm `merge_sort` since it relies on merging sorted lists. \n",
    "\n",
    "``` python\n",
    "def merge_sort(lst):\n",
    "    if len(lst) == 1 or len(lst) == 0:\n",
    "        return lst\n",
    "    \n",
    "    mid = len(lst) // 2\n",
    "    left = merge_sort(lst[:mid])\n",
    "    right = merge_sort(lst[mid:])\n",
    "\n",
    "    return merge(left, right)\n",
    "```"
   ]
  },
  {
   "attachments": {},
   "cell_type": "markdown",
   "metadata": {},
   "source": [
    "## Will this Work?\n",
    "\n",
    "How do we know that merge sort will correctly sort a list?\n",
    "\n",
    "Well, once the recursion gets down to the base cases, `merge_sort` merges lists back together until it returns the whole list.\n",
    "\n",
    "As long as `merge` returns a sorted list, every sucessive call to `merge` will take in two sorted lists and return a sorted list containing all elements in both. Since the base case returns a sorted list, merge will always have sorted lists as inputs and the final result of `merge_sort` will be the complete sorted list.\n",
    "\n",
    "It helps to work through an example (I recommend this every time you study, learn, or design a new algorithm):\n"
   ]
  },
  {
   "attachments": {},
   "cell_type": "markdown",
   "metadata": {},
   "source": [
    "Here is how Merge Sort will operate on the list: $[4, 5, 2, 6, 1, 0, 3, 7]$.\n",
    "\n",
    "You can trace through how Merge Sort divides the problem in half until it gets to the base cases, then merges the results back together until it gets to the final sorted list.\n",
    "\n",
    "<img src = \"figures/merge-sort.jpeg\" width = \"65%\">"
   ]
  },
  {
   "attachments": {},
   "cell_type": "markdown",
   "metadata": {},
   "source": [
    "#### Merging Sorted Lists\n",
    "\n",
    "We've so far left out how the `merge` algorithm works.\n",
    "\n",
    "When `merge` is called, the `left` and `right` halves of the list have been sorted, so `merge`'s job is to merge together two sorted lists into a single sorted list.\n",
    "\n",
    "To illustrate this algorithm, let's examine a concrete example:\n",
    "\n",
    "Suppose we are merging the following two lists into a new sorted list.\n",
    "\n",
    "$[\\bm{5}, 7, 11]~~~[\\bm{1}, 4, 6]$\n",
    "\n",
    "Clearly the first element in the sorted list should be the smaller of the first two elements of the two lists, in this case: $1$.\n",
    "\n",
    "`sorted_list`: $[1]$\n",
    "\n",
    "Then, omitting it from consideration, the next element in the sorted list should be the smaller of $5$ and $4$, and so on.\n",
    "\n",
    "$[\\bm{5}, 7, 11]~~~[\\bm{4}, 6]$\n",
    "\n",
    "Adding $4$ to the sorted list.\n",
    "\n",
    "`sorted_list`: $[1, 4]$\n",
    "\n",
    "and so on...\n",
    "\n",
    "At every step, we compare two elements, one from each list, and add the smaller to the end of the sorted list.\n",
    "\n",
    "At some point, everything from one of the lists will have been added to the sorted list. At that point, everything else from the other list is added to the end."
   ]
  },
  {
   "attachments": {},
   "cell_type": "markdown",
   "metadata": {},
   "source": [
    "# Complete Implementation"
   ]
  },
  {
   "cell_type": "code",
   "execution_count": 25,
   "metadata": {},
   "outputs": [
    {
     "data": {
      "text/plain": [
       "[0, 1, 2, 3, 4, 5, 6, 7]"
      ]
     },
     "execution_count": 25,
     "metadata": {},
     "output_type": "execute_result"
    }
   ],
   "source": [
    "def merge_sort(lst):\n",
    "    if len(lst) == 1 or len(lst) == 0:\n",
    "        return lst\n",
    "    \n",
    "    mid = len(lst) // 2\n",
    "    left = merge_sort(lst[:mid])\n",
    "    right = merge_sort(lst[mid:])\n",
    "\n",
    "    return merge(left, right, [])\n",
    "\n",
    "def merge(left, right, sorted_lst=[]):\n",
    "    if len(left) == 0:\n",
    "        sorted_lst.extend(right)\n",
    "        return sorted_lst\n",
    "    if len(right) == 0:\n",
    "        sorted_lst.extend(left)\n",
    "        return sorted_lst\n",
    "\n",
    "    if left[0] < right[0]:\n",
    "        sorted_lst.append(left[0])\n",
    "        return merge(left[1:], right, sorted_lst)\n",
    "    else:\n",
    "        sorted_lst.append(right[0])\n",
    "        return merge(left, right[1:], sorted_lst)\n",
    "\n",
    "merge_sort([4, 5, 2, 6, 1, 0, 3, 7])"
   ]
  },
  {
   "attachments": {},
   "cell_type": "markdown",
   "metadata": {},
   "source": [
    "# Analysis\n",
    "\n",
    "## Work of Merge Sort\n",
    "\n",
    "We want to write down a recurrence for Merge Sort.\n",
    "\n",
    "It is easy to see that each call to `merge_sort` generates two subproblems which are half of the size so we have the $a$ and $b$ for the general recurrence:\n",
    "\n",
    "$$W(n) = 2W(n/2) + f(n)$$\n",
    "\n",
    "But what is $f(n)$? The work within each `merge_sort` call is dominated by the work of `merge`. Everything else is constance time.\n"
   ]
  },
  {
   "attachments": {},
   "cell_type": "markdown",
   "metadata": {},
   "source": [
    "\n",
    "### Work of Merge\n",
    "\n",
    "We can write down a recurrence for `merge`.\n",
    "\n",
    "##### Merge Branching Factor\n",
    "\n",
    "At every step, `merge` generates a single subproblem. Even though there are multiple recursive calls in our implementation, they are mutually exclusive and only one will be called.\n",
    "\n",
    "##### Subproblem size\n",
    "\n",
    "What about the size of the subproblem? At every step, we add a single element to the sorted list and then call `merge` on all the rest. The size of each subproblem is $n-1$.\n",
    "\n",
    "##### Work of each call\n",
    "\n",
    "Finally, how much work is done within each function call? The conditional checks and append calls are all constant time (let's ignore the extend call for now) so the work within each call is $O(1)$.\n"
   ]
  },
  {
   "attachments": {},
   "cell_type": "markdown",
   "metadata": {},
   "source": [
    "#### Solving the Recurrence\n",
    "\n",
    "Our recurrence is $W(n) = W(n-1) + 1$"
   ]
  },
  {
   "attachments": {},
   "cell_type": "markdown",
   "metadata": {},
   "source": [
    "<img src = \"figures/merge-work.jpeg\" width = \"60%\">"
   ]
  },
  {
   "attachments": {},
   "cell_type": "markdown",
   "metadata": {},
   "source": [
    "This is trivial to solve.\n",
    "\n",
    "$$\n",
    "\\begin{align}\n",
    "W(n) & = \\sum_{i=0}^{n-1} 1 \\\\\n",
    "& = n \\\\\n",
    "& \\in \\Theta(n)\n",
    "\\end{align}\n",
    "$$"
   ]
  },
  {
   "attachments": {},
   "cell_type": "markdown",
   "metadata": {},
   "source": [
    "#### The extend Call\n",
    "\n",
    "When considering the work within each call, we ignored the `extend` call. `extend` is not a constant time operation. Extend appends all elements passed in to it to the list. Its runtime is thus $O(n)$ depending on the number of elements being appended.\n",
    "\n",
    "Does this break our analysis?\n",
    "\n",
    "It does not. We can think about the runtime of `merge` as follows. Fundamentally, `merge` is appending, one at a time, an element from each of the lists until both lists are empty. \n",
    "\n",
    "How many times will the append operation be executed? Clearly, if there are $n$ elements in both lists, there will be $n$ appends over the course of the algorithm. All other operations being constant time, the runtime of `merge` must be $\\Theta(n)$"
   ]
  },
  {
   "attachments": {},
   "cell_type": "markdown",
   "metadata": {},
   "source": [
    "### Merge Sort's Recurrence\n",
    "\n",
    "Finally, we have everything we need to write down Merge Sort's recurrence.\n",
    "\n",
    "Every function call generates two subproblems, each half of the size, and requires within it linear work for merging.\n",
    "\n",
    "$$W(n) = 2W(n/2) + n$$\n",
    "\n",
    "We solved this recurrence previously in a video, but here its its tree again."
   ]
  },
  {
   "attachments": {},
   "cell_type": "markdown",
   "metadata": {},
   "source": [
    "<img src = \"figures/merge-sort-tree.jpeg\" width = \"75%\">"
   ]
  },
  {
   "attachments": {},
   "cell_type": "markdown",
   "metadata": {},
   "source": [
    "It is a balanced tree, with a depth of $\\log_2 n$.\n",
    "\n",
    "$W(n) \\in \\Theta(n\\log_2 n)$"
   ]
  },
  {
   "attachments": {},
   "cell_type": "markdown",
   "metadata": {},
   "source": [
    "## Summary\n",
    "\n",
    "For Merge Sort, we have the following work:\n",
    "\n",
    "**Work:** $W(n) \\in \\Theta(n\\log_2 n)$\n",
    "\n",
    "Compared against Selection Sort:\n",
    "\n",
    "**Work:** $W(n) \\in \\Theta(n^2)$\n",
    "\n",
    "This is much better!\n",
    "\n",
    "By applying a divide and conquer strategy to our sorting algorithm, we were able to achieve a significant improvement in the runtime of our algorithms!"
   ]
  },
  {
   "attachments": {},
   "cell_type": "markdown",
   "metadata": {},
   "source": [
    "# Lagniappe: Optimal Sorting\n",
    "\n",
    "It turns out that not only does Merge Sort achieve a better runtime than other sorting algorithms, but it achieves the optimal runtime.\n",
    "\n",
    "Merge Sort achieves the best possible runtime for any general sorting algorithm.\n",
    "\n",
    "Specifically, the runtime of any algorithm which sorts elements by comparing elements is:\n",
    "\n",
    "$$\\Omega(n \\log_2 n)$$\n",
    "\n",
    "It's not that we aren't clever enough to invent a more efficient algorithm, it's instead that it is impossible to do so.\n",
    "\n",
    "This sort of result is pretty amazing and proofs which can make statements like this are worth studying.\n",
    "\n",
    "For your interest, here is a reference which consisely gives that proof: [Sorting Lower Bound](reference/optimal-sorting-proof.pdf)"
   ]
  }
 ],
 "metadata": {
  "kernelspec": {
   "display_name": "Python 3",
   "language": "python",
   "name": "python3"
  },
  "language_info": {
   "codemirror_mode": {
    "name": "ipython",
    "version": 3
   },
   "file_extension": ".py",
   "mimetype": "text/x-python",
   "name": "python",
   "nbconvert_exporter": "python",
   "pygments_lexer": "ipython3",
   "version": "3.9.6"
  },
  "orig_nbformat": 4,
  "vscode": {
   "interpreter": {
    "hash": "aee8b7b246df8f9039afb4144a1f6fd8d2ca17a180786b69acc140d282b71a49"
   }
  }
 },
 "nbformat": 4,
 "nbformat_minor": 2
}
