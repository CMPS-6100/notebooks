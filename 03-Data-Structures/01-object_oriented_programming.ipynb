{
 "cells": [
  {
   "cell_type": "markdown",
   "metadata": {},
   "source": [
    "# Object Oriented Programming"
   ]
  },
  {
   "attachments": {},
   "cell_type": "markdown",
   "metadata": {},
   "source": [
    "Just as we can build things in real life out of components, so to can we in computer programs.\n",
    "\n",
    "In programming, an **object** is a set of data along with associated functions wrapped up into a single component.\n",
    "\n",
    "You have seen and used objects before, just without any fanfare.\n",
    "\n",
    "For example:"
   ]
  },
  {
   "cell_type": "code",
   "execution_count": null,
   "metadata": {},
   "outputs": [],
   "source": [
    "part1 = \"race\"\n",
    "part2 = \"car!\"\n",
    "# Concatenate and print \"Race Car!\"\n",
    "print(part1.capitalize() + \" \" + part2.capitalize())"
   ]
  },
  {
   "attachments": {},
   "cell_type": "markdown",
   "metadata": {},
   "source": [
    "[Strings are objects](https://docs.python.org/3/library/stdtypes.html#text-sequence-type-str) in python! The data is the list of characters that make up the string and the functions are listed [here](https://docs.python.org/3/library/stdtypes.html#string-methods)"
   ]
  },
  {
   "attachments": {},
   "cell_type": "markdown",
   "metadata": {},
   "source": [
    "## Custom Objects"
   ]
  },
  {
   "attachments": {},
   "cell_type": "markdown",
   "metadata": {},
   "source": [
    "We can define our own custom objects. We'll see how to below, but first, why do so?"
   ]
  },
  {
   "attachments": {},
   "cell_type": "markdown",
   "metadata": {},
   "source": [
    "### Example: Expanding an Exploration Game"
   ]
  },
  {
   "attachments": {},
   "cell_type": "markdown",
   "metadata": {},
   "source": [
    "You have implemented a simple exploration game. Suppose you wanted to add combat. You could, for example, have different opponents in different rooms of the game.\n",
    "\n",
    "If we are to have combat, at a minimum, we need to track the `health` and `attack_damage` for the player and all opponents. One way would be to create variables for every potential combatant and update them as appropriate...\n"
   ]
  },
  {
   "attachments": {},
   "cell_type": "markdown",
   "metadata": {},
   "source": [
    "\n",
    "``` python\n",
    "# All potential combatants health and attack_damage:\n",
    "player_health = 24\n",
    "player_attack_damage = 3\n",
    "\n",
    "tangled_cables_health = 8\n",
    "tangled_cables_attack_damage = 2\n",
    "\n",
    "suit_of_armor_health = 18\n",
    "suit_of_armor_attack_damage = 4\n",
    "\n",
    "spirit_of_the_gamer_health = 32\n",
    "spirit_of_the_gamer_attack_damage = 8\n",
    "\n",
    "#...\n",
    "```\n"
   ]
  },
  {
   "attachments": {},
   "cell_type": "markdown",
   "metadata": {},
   "source": [
    "This quickly becomes a challenge to manage and implement. Consider a combat loop. It would need a large conditional to use and update the right opponent stats based on the room. \n",
    "\n",
    "``` python\n",
    "# combat loop\n",
    "while True:\n",
    "    # player attacks\n",
    "    if(room == 2):\n",
    "        tangled_cables_health -= player_attack_damage\n",
    "        if(tangled_cables_health < 1):\n",
    "            break # combat is over\n",
    "    elif(room == 4):\n",
    "        suit_of_armor_health -= player_attack_damage\n",
    "        if(suit_of_armor_health < 1):\n",
    "            break # combat is over\n",
    "    elif(room == 13):\n",
    "        spirit_of_the_gamer_attack_damage -= player_attack_damage\n",
    "        if(spirit_of_the_gamer_attack_damage < 1):\n",
    "            break # combat is over\n",
    "\n",
    "    # opponent takes their turn\n",
    "    if(room == 2):\n",
    "        player_health -= tangled_cables_attack_damage\n",
    "    elif(room == 4):\n",
    "        player_health -= suit_of_armor_attack_damage\n",
    "    elif(room == 13):\n",
    "        player_health -= spirit_of_the_gamer_attack_damage\n",
    "    if(player_health < 0):\n",
    "        break #combat it over\n",
    "```\n",
    "\n",
    "**Ugly!!** It is unwieldy and difficult to modify or add to.\n",
    "\n",
    "This is where objects shine. We can encapsulate the attributes for a player or opponent in their own classes and then use these classes in the game."
   ]
  },
  {
   "attachments": {},
   "cell_type": "markdown",
   "metadata": {},
   "source": [
    "Using `player` and `opponent` objects, we can write a much more readable combat loop:"
   ]
  },
  {
   "attachments": {},
   "cell_type": "markdown",
   "metadata": {},
   "source": [
    "```python\n",
    "while True:\n",
    "    player.attack(opponent)\n",
    "    if(not opponent.is_alive()):\n",
    "        # exit combat\n",
    "        break\n",
    "\n",
    "    opponent.attack(player)\n",
    "    if(not player.is_alive()):\n",
    "        # exit combat\n",
    "        break\n",
    "```"
   ]
  },
  {
   "attachments": {},
   "cell_type": "markdown",
   "metadata": {},
   "source": [
    "This is so much better. It is clear, concise, and easy to understand! This is incredibly important. I don't know about you, but I like to avoid headaches.\n"
   ]
  },
  {
   "attachments": {},
   "cell_type": "markdown",
   "metadata": {},
   "source": [
    "\n",
    "## Meta Goals for Programming:\n",
    "\n",
    "We we write programs, we aren't *only* concerned with getting them to work. We should have some important meta goals in mind as well.\n",
    "\n",
    "- Readability\n",
    "- Maintainability\n",
    "- Extensibility\n",
    "\n",
    "Readable programs are easy to understand. They read like natural language. The epitomy of this is code that you can present to a non-programmer and they can comprehend it.\n",
    "\n",
    "Maintainable programs are closely related to readable ones. These are programs which are easy to parse and understand (even after very long break from working on them) and are easy to debug and adapt.\n",
    "\n",
    "Extensible programs are those that are easy to add new components and functionality to.\n",
    "\n",
    "Object Oriented Programming as a paradigm makes it easy to achieve these goals. We've already seen how using objects can make a program more readable. We will see that it also makes them easily extensible as well."
   ]
  },
  {
   "attachments": {},
   "cell_type": "markdown",
   "metadata": {},
   "source": [
    "## Using the Object Oriented Programming Paradigm"
   ]
  },
  {
   "attachments": {},
   "cell_type": "markdown",
   "metadata": {},
   "source": [
    "We can create our own objects to use in our programs.\n",
    "\n",
    "We define objects by writing **classes**. A **class** is a blueprint for an object.\n",
    "\n",
    "The class defines what the attributes and functions are for that object. This is the relevant data that the object tracks and functions that can be called on it.\n",
    "\n",
    "Once we've written a class, we can create as many **instances** of it (objects from it) as we want, and each will have its own copy of all of the attributes and functions.\n",
    "\n",
    "More jargon: An **object** is an **instance** of a **class**.\n",
    "\n",
    "To write a class, we need to define/implement the following:\n",
    "\n",
    "- class definition\n",
    "- a constructor\n",
    "    - attributes aka **instance variables**\n",
    "- the set of functions for the class"
   ]
  },
  {
   "attachments": {},
   "cell_type": "markdown",
   "metadata": {},
   "source": [
    "### Constructors\n",
    "\n",
    "A **constructor** is a special function which is used to initilialize objects of a class. \n",
    "\n",
    "The job of a constructor is to define and initialize all attributes for a particular object.\n",
    "\n",
    "For example, for a player, we might want to track that player's `name`, `health`, and `attack_damage`. The constructor gives these variables their initial values."
   ]
  },
  {
   "attachments": {},
   "cell_type": "markdown",
   "metadata": {},
   "source": [
    "## Defining a Player class\n",
    "\n",
    "When designing any class, the first two questions which must be answers are:\n",
    "\n",
    "1) What is the relevant data that must be tracked?\n",
    "    - These will become our class attributes\n",
    "2) What functions should this class have?\n",
    "\n",
    "For a `Player` class, we've already noted three relevant attributes:\n",
    "\n",
    "- `name`\n",
    "- `health`\n",
    "- `attack_damage`\n",
    "\n",
    "As far as functions, at a minimum, we should have the ability to `attack()`. Also, since they can be attacked themselves, we should add a function to `take_damage()` as well. It can also be useful to find out if the player is still alive.\n",
    "\n",
    "Functions:\n",
    "\n",
    "- `attack()`\n",
    "- `take_damage()`\n",
    "- `is_alive()`\n",
    "\n",
    "With this, we can start to define a player class. The first step is to define the class and implement the constructor."
   ]
  },
  {
   "attachments": {},
   "cell_type": "markdown",
   "metadata": {},
   "source": [
    "### Writing the Constructor\n",
    "\n",
    "We implement the constructor by implementing the special function `__init__`. \n"
   ]
  },
  {
   "cell_type": "code",
   "execution_count": 1,
   "metadata": {},
   "outputs": [],
   "source": [
    "class Player:\n",
    "    # The constructor:\n",
    "    def __init__(self, name, health, attack_damage):\n",
    "        self.name = name\n",
    "        self.health = health\n",
    "        self.attack_damage = attack_damage"
   ]
  },
  {
   "cell_type": "markdown",
   "metadata": {},
   "source": [
    "\n",
    "Our constructor takes in values for all attributes and assigns those values into the class attributes.\n",
    "\n",
    "Within classes, `self` is a very special parameter. It is passed into all functions as the first parameter. It is a self-referential variable. It allows us to refer to the attributes and functions of the class.\n",
    "\n",
    "For example if we access `self.name`, we are accessing the class attribute name. If we access `name`, we are accessing the parameter name. These are two different variables. We always access class attributes through the `self` variable."
   ]
  },
  {
   "attachments": {},
   "cell_type": "markdown",
   "metadata": {},
   "source": [
    "## Testing our Player Class\n",
    "\n",
    "A mantra when programming is to test early and often! Let's create a Player object."
   ]
  },
  {
   "cell_type": "code",
   "execution_count": 2,
   "metadata": {},
   "outputs": [],
   "source": [
    "# To call on the constructor, we call on the class name like\n",
    "# a function. \n",
    "# \n",
    "# We do not need to pass in a value for the self parameter \n",
    "# we defined above. self is handled automatically in the \n",
    "# background\n",
    "#\n",
    "# Here we are creating a player with the name Esmeralda,\n",
    "# with 32 health, and an attack_damage of 4\n",
    "player = Player(\"Esmeralda\", 32, 4)"
   ]
  },
  {
   "attachments": {},
   "cell_type": "markdown",
   "metadata": {},
   "source": [
    "If you first execute the code block with our Player class definition and then this one above, nothing will happen. But that's ok and expected. We have no output yet.\n",
    "\n",
    "Let's add a way to see the state of our object."
   ]
  },
  {
   "attachments": {},
   "cell_type": "markdown",
   "metadata": {},
   "source": [
    "### The Special `__str__` function\n",
    "\n",
    "Python supports a special function, `__str__` which will allow us to easily print out the state of the object.\n",
    "\n",
    "This function's job is to return a string representing the object.\n",
    "\n",
    "Let's add it to our class."
   ]
  },
  {
   "cell_type": "code",
   "execution_count": 4,
   "metadata": {},
   "outputs": [],
   "source": [
    "class Player:\n",
    "    # The constructor:\n",
    "    def __init__(self, name, health, attack_damage):\n",
    "        self.name = name\n",
    "        self.health = health\n",
    "        self.attack_damage = attack_damage\n",
    "\n",
    "    def __str__(self):\n",
    "        message = \"{}\\n\".format(self.name)\n",
    "        message += \"Health: {}\\n\".format(self.health)\n",
    "        message += \"Attack Damage: {}\\n\".format(self.attack_damage)\n",
    "        return message"
   ]
  },
  {
   "cell_type": "code",
   "execution_count": 5,
   "metadata": {},
   "outputs": [
    {
     "name": "stdout",
     "output_type": "stream",
     "text": [
      "Esmeralda\n",
      "Health: 32\n",
      "Attack Damage: 4\n",
      "\n"
     ]
    }
   ],
   "source": [
    "player = Player(\"Esmeralda\", 32, 4)\n",
    "print(player)"
   ]
  },
  {
   "attachments": {},
   "cell_type": "markdown",
   "metadata": {},
   "source": [
    "Execute the two blocks above, and you will see Esmeralda's message."
   ]
  },
  {
   "attachments": {},
   "cell_type": "markdown",
   "metadata": {},
   "source": [
    "Next up for the player, we can implement `take_damage()` and `is_alive()`. \n",
    "\n",
    "`take_damage()` is simple. We can have it take in the amount of damage to take and then subtract that from the player's health.\n",
    "\n",
    "```python\n",
    "def take_damage(self, damage):\n",
    "        self.health -= damage\n",
    "        # If the health drops below 0, set it to 0\n",
    "        if(self.health < 0):\n",
    "            self.health == 0\n",
    "```\n",
    "\n",
    "`is_alive()` is equally simple. Return `True` if the player's health is above 0, `False` otherwise.\n",
    "\n",
    "```python\n",
    "def is_alive(self):\n",
    "        return self.health > 0\n",
    "```"
   ]
  },
  {
   "cell_type": "code",
   "execution_count": null,
   "metadata": {},
   "outputs": [],
   "source": [
    "class Player:\n",
    "    # The constructor:\n",
    "    def __init__(self, name, health, attack_damage):\n",
    "        self.name = name\n",
    "        self.health = health\n",
    "        self.attack_damage = attack_damage\n",
    "\n",
    "    def __str__(self):\n",
    "        message = \"{}\\n\".format(self.name)\n",
    "        message += \"Health: {}\\n\".format(self.health)\n",
    "        message += \"Attack Damage: {}\\n\".format(self.attack_damage)\n",
    "        return message\n",
    "\n",
    "    def take_damage(self, damage):\n",
    "        self.health -= damage\n",
    "        # If the health drops below 0, set it to 0\n",
    "        if(self.health < 0):\n",
    "            self.health == 0\n",
    "    \n",
    "    def is_alive(self):\n",
    "        return self.health > 0"
   ]
  },
  {
   "attachments": {},
   "cell_type": "markdown",
   "metadata": {},
   "source": [
    "## Class Opponent\n"
   ]
  },
  {
   "attachments": {},
   "cell_type": "markdown",
   "metadata": {},
   "source": [
    "Our next function for the player class would be `attack()`, but before we get there, we need to define an `Opponent`. Otherwise, we have nothing to attack!\n",
    "\n",
    "Considering the opponent, its relevant data is:\n",
    "\n",
    "- `name`\n",
    "- `health`\n",
    "- `attack_damage`\n",
    "\n",
    "Needed functions are:\n",
    "\n",
    "- `attack`()\n",
    "- `take_damage`()\n",
    "- `is_alive()`\n",
    "\n",
    "So far, it is identical to the `Player` class. \n",
    "\n",
    "Why create a second class for it? The major difference is that players are controlled by the user and opponents are automated and controlled by the game.\n",
    "\n",
    "Taking this into account, when we return to the `Player` class we can add a `take_turn()` function to let the user choose what to do (we should come up with another option besides attack).\n",
    "\n",
    "In the `Opponent` class, we can also implement `take_turn()` and for now, simply attack the player. Maybe in the future the opponent could automatically choose between multiple options.\n",
    "\n",
    "Let's implement `Opponent`. As expected, it will be nearly identical to the `Player` class so far. \n",
    "\n",
    "We can implement `attack()`. This function will take in the player to attack and then call on its `take_damage` function to perform the attack. "
   ]
  },
  {
   "cell_type": "code",
   "execution_count": 6,
   "metadata": {},
   "outputs": [],
   "source": [
    "class Opponent:\n",
    "    def __init__(self, name, health, attack_damage):\n",
    "        self.name = name\n",
    "        self.health = health\n",
    "        self.attack_damage = attack_damage\n",
    "\n",
    "    def __str__(self):\n",
    "        message = \"{}\\n\".format(self.name)\n",
    "        message += \"Health: {}\\n\".format(self.health)\n",
    "        message += \"Attack Damage: {}\\n\".format(self.attack_damage)\n",
    "        return message\n",
    "\n",
    "    def take_damage(self, damage):\n",
    "        self.health -= damage\n",
    "        if(self.health < 0):\n",
    "            self.health == 0\n",
    "\n",
    "    def is_alive(self):\n",
    "        return self.health > 0\n",
    "\n",
    "    def attack(self, player):\n",
    "        print(\"{} attacks {} for {} damage!\".format(self.name, \n",
    "                                                    player.name, \n",
    "                                                    self.attack_damage))\n",
    "        player.take_damage(self.attack_damage)"
   ]
  },
  {
   "attachments": {},
   "cell_type": "markdown",
   "metadata": {},
   "source": [
    "Let's finally finish the `Player` class as well, adding in its `attack()` function:"
   ]
  },
  {
   "cell_type": "code",
   "execution_count": 7,
   "metadata": {},
   "outputs": [],
   "source": [
    "class Player:\n",
    "    # The constructor:\n",
    "    def __init__(self, name, health, attack_damage):\n",
    "        self.name = name\n",
    "        self.health = health\n",
    "        self.attack_damage = attack_damage\n",
    "\n",
    "    def __str__(self):\n",
    "        message = \"{}\\n\".format(self.name)\n",
    "        message += \"Health: {}\\n\".format(self.health)\n",
    "        message += \"Attack Damage: {}\\n\".format(self.attack_damage)\n",
    "        return message\n",
    "\n",
    "    def take_damage(self, damage):\n",
    "        self.health -= damage\n",
    "        # If the health drops below 0, set it to 0\n",
    "        if(self.health < 0):\n",
    "            self.health == 0\n",
    "    \n",
    "    def is_alive(self):\n",
    "        return self.health > 0\n",
    "\n",
    "    def attack(self, opponent):\n",
    "        print(\"{} attacks {} for {} damage!\".format(self.name, \n",
    "                                                    opponent.name, \n",
    "                                                    self.attack_damage))\n",
    "        opponent.take_damage(self.attack_damage)"
   ]
  },
  {
   "attachments": {},
   "cell_type": "markdown",
   "metadata": {},
   "source": [
    "Now we can test this all out! Let's have the player and opponent attack each other and verify that the attacks worked. We will print out their states before and after the attacks to see the effects.\n",
    "\n",
    "Before executing the following code block, execute the code blocks for the complete `Opponent` and `Player` classes to load them into memory."
   ]
  },
  {
   "cell_type": "code",
   "execution_count": 8,
   "metadata": {},
   "outputs": [
    {
     "name": "stdout",
     "output_type": "stream",
     "text": [
      "Esmeralda\n",
      "Health: 32\n",
      "Attack Damage: 4\n",
      "\n",
      "Animated Suit\n",
      "Health: 18\n",
      "Attack Damage: 4\n",
      "\n",
      "Esmeralda attacks Animated Suit for 4 damage!\n",
      "Animated Suit\n",
      "Health: 14\n",
      "Attack Damage: 4\n",
      "\n",
      "Animated Suit attacks Esmeralda for 4 damage!\n",
      "Esmeralda\n",
      "Health: 28\n",
      "Attack Damage: 4\n",
      "\n"
     ]
    }
   ],
   "source": [
    "player = Player(\"Esmeralda\", 32, 4)\n",
    "opponent = Opponent(\"Animated Suit\", 18, 4)\n",
    "\n",
    "print(player)\n",
    "print(opponent)\n",
    "\n",
    "player.attack(opponent)\n",
    "print(opponent)\n",
    "\n",
    "opponent.attack(player)\n",
    "print(player)\n"
   ]
  },
  {
   "attachments": {},
   "cell_type": "markdown",
   "metadata": {},
   "source": [
    "## Combat Loop\n",
    "\n",
    "I'll leave it to you to implement the combat loop. We sketched it out above. Use that logic and add a couple of print statements and you'll have a complete combat simulator."
   ]
  },
  {
   "cell_type": "code",
   "execution_count": 10,
   "metadata": {},
   "outputs": [],
   "source": [
    "# Implement the combat loop here\n"
   ]
  },
  {
   "attachments": {},
   "cell_type": "markdown",
   "metadata": {},
   "source": [
    "## Food for Thought\n",
    "\n",
    "We've used objects to implement combat for the exploration game. You could also use objects to represent the rooms in the game as well.\n",
    "\n",
    "Rather than using a dictionary, you could have room objects. Each room object could its name, description, variables pointing to the rooms through its exits, and an opponent to fight. If you wanted to, you could also add items to a room, for example, a makeshift weapon, or something to consume to increase health or attack damage."
   ]
  },
  {
   "attachments": {},
   "cell_type": "markdown",
   "metadata": {},
   "source": [
    "# Summary\n",
    "\n",
    "We now have the ability to define and use **objects**. We've seen its application in one context, but it is widely applicable and will help us implement data structures and full programs more easily."
   ]
  },
  {
   "cell_type": "markdown",
   "metadata": {},
   "source": [
    "```"
   ]
  }
 ],
 "metadata": {
  "kernelspec": {
   "display_name": "Python 3.9.6 64-bit",
   "language": "python",
   "name": "python3"
  },
  "language_info": {
   "codemirror_mode": {
    "name": "ipython",
    "version": 3
   },
   "file_extension": ".py",
   "mimetype": "text/x-python",
   "name": "python",
   "nbconvert_exporter": "python",
   "pygments_lexer": "ipython3",
   "version": "3.9.6"
  },
  "orig_nbformat": 4,
  "vscode": {
   "interpreter": {
    "hash": "aee8b7b246df8f9039afb4144a1f6fd8d2ca17a180786b69acc140d282b71a49"
   }
  }
 },
 "nbformat": 4,
 "nbformat_minor": 2
}
