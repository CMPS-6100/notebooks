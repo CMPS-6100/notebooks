{
 "cells": [
  {
   "attachments": {},
   "cell_type": "markdown",
   "metadata": {},
   "source": [
    "# Data Structures"
   ]
  },
  {
   "attachments": {},
   "cell_type": "markdown",
   "metadata": {},
   "source": [
    "In this set of notes, we will outline and use linked lists, but before we get to them, it's useful to define what a data structure is.\n",
    "\n",
    "A **data structure** is an object which stores data and provides operations for inserting, accessing, and removing data from it.\n",
    "\n",
    "Different data structures actually structure the data in different ways. This leads to different efficiencies for their operations. \n",
    "\n",
    "A few data structures are shown below:\n"
   ]
  },
  {
   "attachments": {},
   "cell_type": "markdown",
   "metadata": {},
   "source": [
    "<img src = \"figures/data-structures.jpeg\" width = \"100%\">"
   ]
  },
  {
   "attachments": {},
   "cell_type": "markdown",
   "metadata": {},
   "source": [
    "On the left we have a **Linked List**; in the middle, a **Graph**; and on the right, a **Binary Search Tree**."
   ]
  },
  {
   "attachments": {},
   "cell_type": "markdown",
   "metadata": {},
   "source": [
    "\n",
    "\n",
    "From our perspective, other than the intellectual interest in understanding how they work (there are interesting ideas, designs, and algorithms within them!), different data structures have different strengths and weaknesses and are more or less suited for particular applications.\n",
    "\n",
    "In studying how we can structure and access data, you are building up a toolbox of data structures that you can apply to solve problems.\n",
    "\n",
    "Different Structures have different strengths and weaknesses. They have different runtimes for their operations. \n",
    "\n",
    "All data structures support a handful of common operations:\n",
    "\n",
    "- Add an element\n",
    "- Remove an element\n",
    "- Access into the data structure\n",
    "- Search for an element\n",
    "- etc..\n",
    "\n",
    "When thinking about a program, we consider the operations we need to perform and pick the data structures that supports those operations most efficiently."
   ]
  },
  {
   "attachments": {},
   "cell_type": "markdown",
   "metadata": {},
   "source": [
    "As we learn about various data structures, we will focus on a few things:\n",
    "\n",
    "1. Their structure\n",
    "\n",
    "2. How we can implement them\n",
    "\n",
    "3. The runtimes of common operations\n",
    "\n",
    "We'll also discuss applications, and, especially for graphs, algorithms which can be run on them."
   ]
  },
  {
   "attachments": {},
   "cell_type": "markdown",
   "metadata": {},
   "source": [
    "# Python Lists (NOT Linked Lists)\n",
    "\n",
    "Before we get to Linked Lists, it is useful to discuss python lists and how they work.\n",
    "\n",
    "Under the hood, python lists are stored as **arrays**.\n",
    "\n",
    "An **array** is just a consecutive set of memory locations which store values of a particular type.\n",
    "\n",
    "For example, we can have an array which stores 10 integers which we can represent as follows."
   ]
  },
  {
   "attachments": {},
   "cell_type": "markdown",
   "metadata": {},
   "source": [
    "<img src = \"figures/array-empty.jpeg\" width = \"60%\">"
   ]
  },
  {
   "attachments": {},
   "cell_type": "markdown",
   "metadata": {},
   "source": [
    "It has ten spaces, labelled with their indices 0-9."
   ]
  },
  {
   "attachments": {},
   "cell_type": "markdown",
   "metadata": {},
   "source": [
    "\n",
    "When an array is created, enough space is allocated for exactly 10 integers, and this array can never hold more than 10 numbers. Why? Because the memory after will be used to store other stuff and the values in an array must be consecutive.\n",
    "\n",
    "This seems pretty restrictive, and it is. Python hides these low level details from us by providing a more abstract data structure, its list.\n",
    "\n",
    "Its worthwhile to consider some basic operations on an array, how they work, and what their runtime will be.\n"
   ]
  },
  {
   "attachments": {},
   "cell_type": "markdown",
   "metadata": {},
   "source": [
    "## Operations on an Array\n",
    "\n",
    "- Access an element at an index\n",
    "- Insert into the array\n",
    "- Remove from an array"
   ]
  },
  {
   "attachments": {},
   "cell_type": "markdown",
   "metadata": {},
   "source": [
    "### Element access\n",
    "\n",
    "Because of the way arrays are stored, accessing into one is trivial. Every array has a starting memory location, and given an index, it is a simple calculation to determine the memory address of that spot. Index access is thus $O(1)$."
   ]
  },
  {
   "attachments": {},
   "cell_type": "markdown",
   "metadata": {},
   "source": [
    "#### Insertion\n",
    "\n",
    "We'll consider two cases, inserting into the beginning of an array and appending to an array.\n",
    "\n",
    "##### Inserting into the beginning of an array\n",
    "\n",
    "Suppose we have an array when some number of elements in it:\n",
    "\n"
   ]
  },
  {
   "attachments": {},
   "cell_type": "markdown",
   "metadata": {},
   "source": [
    "<img src = \"figures/array-insert-00.jpeg\" width = \"60%\">"
   ]
  },
  {
   "attachments": {},
   "cell_type": "markdown",
   "metadata": {},
   "source": [
    "If we want to insert `2` into in the index `0` spot in this array, we have to make room for it by shifting everthing over. Only then can we insert 2."
   ]
  },
  {
   "attachments": {},
   "cell_type": "markdown",
   "metadata": {},
   "source": [
    "<img src = \"figures/array-insert-01.jpeg\" width = \"60%\">"
   ]
  },
  {
   "attachments": {},
   "cell_type": "markdown",
   "metadata": {},
   "source": [
    "##### Runtime\n",
    "\n",
    "Since we have to shift everything over, if we have `n` elements in the array, we have to perform `n` copies.\n",
    "\n",
    "The runtime is $O(n)$"
   ]
  },
  {
   "attachments": {},
   "cell_type": "markdown",
   "metadata": {},
   "source": [
    "##### Inserting at the end of an array\n",
    "\n",
    "What if we want to insert at the end of an array? \n",
    "\n",
    "In the worst case, the array is full. Since an array can't grow, the only way to append a new element is to create a new larger array, copy everything into it, then append to that new array."
   ]
  },
  {
   "attachments": {},
   "cell_type": "markdown",
   "metadata": {},
   "source": [
    "<img src = \"figures/array-insert-02.jpeg\" width = \"70%\">"
   ]
  },
  {
   "attachments": {},
   "cell_type": "markdown",
   "metadata": {},
   "source": [
    "##### Runtime\n",
    "\n",
    "Again the runtime of this operation depends on the size of the array. If there `n` elements in the array, we have to perform `n` copies.\n",
    "\n",
    "The runtime is $O(n)$"
   ]
  },
  {
   "attachments": {},
   "cell_type": "markdown",
   "metadata": {},
   "source": [
    "#### Removal\n",
    "\n",
    "Removing an element from an array is similarly inefficient. An array is not allowed to have an \"holes\" in it. It must consist of consecutive values.\n",
    "\n",
    "As a result, if an element is removed, all elements that follow it must be shifted over to fill in the gap.\n",
    "\n",
    "Removal is therefore also $O(n)$"
   ]
  },
  {
   "attachments": {},
   "cell_type": "markdown",
   "metadata": {},
   "source": [
    "### Summary\n",
    "\n",
    "For a general array (e.g, a basic python list) our major operations have the following runtimes:\n",
    "\n",
    "- Access: $O(1)$\n",
    "- Insertion: $O(n)$\n",
    "- Removal: $O(n)$\n",
    "\n",
    "This isn't great. We have efficient access, but inefficient modification. With this as a background, let's examine a different form of a list: the Linked List."
   ]
  },
  {
   "attachments": {},
   "cell_type": "markdown",
   "metadata": {},
   "source": [
    "# Linked Lists"
   ]
  },
  {
   "attachments": {},
   "cell_type": "markdown",
   "metadata": {},
   "source": [
    "<img src = \"figures/linked-list.jpeg\" width = \"60%\">"
   ]
  },
  {
   "attachments": {},
   "cell_type": "markdown",
   "metadata": {},
   "source": [
    "A **Linked List** is a linked set of **Nodes**. Each **Node** contains one element of the list and references to its next and previous nodes. \n",
    "\n",
    "The linked list itself only ever remembers the **HEAD** and **TAIL** nodes of the list. The **HEAD** and **TAIL** are the first and last nodes in the list respectively. Every other node is accessed by starting at either of those and iterating through the list to get to it.\n",
    "\n",
    "With this information, we can sketch out a `Node` and `LinkedList` class:"
   ]
  },
  {
   "cell_type": "code",
   "execution_count": null,
   "metadata": {},
   "outputs": [],
   "source": [
    "class Node:\n",
    "    def __init__(self, element):\n",
    "        \"\"\"\n",
    "        Construct a Node\n",
    "\n",
    "        Parameters\n",
    "        ----------\n",
    "        element : AnyType\n",
    "            An element to be stored in a Linked List\n",
    "        \"\"\"\n",
    "        self.element = element\n",
    "        # Create two attributes, next and prev and initialize them\n",
    "        # to be None\n",
    "        # These are set when a None is added to a Linked List\n",
    "        self.next = None\n",
    "        self.prev = None\n",
    "\n",
    "    def __str__(self):\n",
    "        if self.next == None:\n",
    "            return \"[{}]\".format(self.element)\n",
    "        else:\n",
    "            return \"[{}]<->\".format(self.element)\n",
    "\n",
    "class LinkedList:\n",
    "    def __init__(self):\n",
    "        self.size = 0\n",
    "        self.HEAD = None\n",
    "        self.TAIL = None\n",
    "\n",
    "    def is_empty(self):\n",
    "        return self.size == 0"
   ]
  },
  {
   "attachments": {},
   "cell_type": "markdown",
   "metadata": {},
   "source": [
    "## Operations\n",
    "\n",
    "What operations should we support? \n",
    "\n",
    "As with most data structures, we should support operations:\n",
    "\n",
    "- insert\n",
    "    - insert a new element into the list\n",
    "- contains\n",
    "    - check is an element is in the list\n",
    "- get\n",
    "    - get the element at a given index\n",
    "- remove\n",
    "    - remove an element from the list"
   ]
  },
  {
   "attachments": {},
   "cell_type": "markdown",
   "metadata": {},
   "source": [
    "## Inserting into a Linked List\n",
    "\n",
    "First let's consider insertion. How can we insert a new element into a Linked List?\n",
    "\n",
    "This depends on where we are inserting into. We can break this problem into three cases:\n",
    "\n",
    "1. Inserting into the very beginning of the list\n",
    "    - e.g, prepend\n",
    "2. Inserting into the middle of the list\n",
    "    - e.g, general insert\n",
    "3. Inserting at the very end of the list\n",
    "    - e.g, append\n",
    "\n",
    "For the first and third cases, we will have to update either the `HEAD` or the `TAIL`. In the second case, since a linked list only has references to the `HEAD` and `TAIL`, we will have to navigate to the location to insert before inserting.\n",
    "\n",
    "In our Linked List, we'll implement a method for each of these cases.\n"
   ]
  },
  {
   "attachments": {},
   "cell_type": "markdown",
   "metadata": {},
   "source": [
    "\n",
    "### Append\n",
    "\n",
    "Appending (and prepending) are relatively simple. Let's implement `append` first.\n",
    "\n",
    "To append an element to a linked list, if the list is empty, we need to:\n",
    "\n",
    "1. Create a new `Node` containing the element\n",
    "2. Point the `HEAD` and `TAIL` to that node\n",
    "3. Increment the size of the list. \n",
    "\n",
    "Example: Starting from an empty list, append 5 to the list. The relevant part for each step is highlighted in blue.\n",
    "\n",
    "1. Create the Node containing 5.\n",
    "2. Point the HEAD and TAIL to it.\n",
    "3. Increment the size."
   ]
  },
  {
   "attachments": {},
   "cell_type": "markdown",
   "metadata": {},
   "source": [
    "<img src = \"figures/ll-append-empty.jpeg\" width = \"40%\">"
   ]
  },
  {
   "cell_type": "markdown",
   "metadata": {},
   "source": [
    "\n",
    "If the list isn't empty, we need to:\n",
    "\n",
    "1. Create a new `Node` containing the element\n",
    "2. Update the pointers between the new node and previous tail\n",
    "3. Update the `TAIL` to point to this new node\n",
    "4. Increment the size of the list"
   ]
  },
  {
   "attachments": {},
   "cell_type": "markdown",
   "metadata": {},
   "source": [
    "<img src = \"figures/ll-append.jpeg\" width = \"60%\">"
   ]
  },
  {
   "attachments": {},
   "cell_type": "markdown",
   "metadata": {},
   "source": [
    "Putting it together in code, it looks like:\n",
    "\n",
    "``` python\n",
    "def append(self, element):\n",
    "    node = Node(element)\n",
    "    if self.is_empty():\n",
    "        self.HEAD = node\n",
    "        self.TAIL = node\n",
    "    else:\n",
    "        node.prev = self.TAIL\n",
    "        self.TAIL.next = node\n",
    "        self.TAIL = node\n",
    "    self.size += 1\n",
    "```\n",
    "\n",
    "Rather than copying the whole Linked List code throughout this notebook, we'll write the functions in-line in the notebook. We'll consolidate everything into a Linked List class later."
   ]
  },
  {
   "attachments": {},
   "cell_type": "markdown",
   "metadata": {},
   "source": [
    "### Prepend (You will implement)\n",
    "\n",
    "`prepend` is very similar to `append`. The only difference is that we are inserting before the `HEAD` rather than after the `TAIL`.\n",
    "\n",
    "I will leave it to you to implement `prepend`.\n",
    "\n",
    "```python\n",
    "def prepend(self, element):\n",
    "    # You will implement this\n",
    "```"
   ]
  },
  {
   "attachments": {},
   "cell_type": "markdown",
   "metadata": {},
   "source": [
    "### General Insert\n",
    "\n",
    "For general insertion, we want to be able to insert at a particular position.\n",
    "\n",
    "For example, given an `element` and an `index`, after the insertion, that `element` should be at that `index`. The node that was there will be \"pushed back\".\n",
    "\n",
    "To perform a general insert, we need to:\n",
    "\n",
    "1. Create a new node, `node`, containing the element\n",
    "2. Iterate to the node BEFORE the insertion position\n",
    "3. Update the pointers between `node` and the nodes before and after it\n",
    "4. Increment the size of the list\n"
   ]
  },
  {
   "attachments": {},
   "cell_type": "markdown",
   "metadata": {},
   "source": [
    "<img src = \"figures/ll-insert.jpeg\" width = \"60%\">"
   ]
  },
  {
   "attachments": {},
   "cell_type": "markdown",
   "metadata": {},
   "source": [
    "### Insert Implementation\n",
    "\n",
    "Before jumping into the code, we need to note that for general insertion, the discussion above assumes the case where an index is given for somewhere in the middle of the list. \n",
    "\n",
    "If an index is given for the very end or beginning of the list, our strategy won't work; we need to update either the `HEAD` or the `TAIL`. This isn't a problem though, we can handle these special cases using `prepend` or `append`!\n"
   ]
  },
  {
   "attachments": {},
   "cell_type": "markdown",
   "metadata": {},
   "source": [
    "\n",
    "``` python\n",
    "def insert(self, element, index):\n",
    "    # Handle the special cases of \n",
    "    # inserting at index 0\n",
    "    if(index == 0):\n",
    "        self.prepend(element)\n",
    "        return\n",
    "    # or inserting after the tail\n",
    "    if(index == self.size):\n",
    "        self.append(element)\n",
    "        return\n",
    "    \n",
    "    # otherwise, general case\n",
    "    # 1. Create the new node\n",
    "    node = Node(element)\n",
    "    # 2. iterate to the node before the insertion position.\n",
    "    # if we want to insert at index 3, we need a reference\n",
    "    # to the node at index 2\n",
    "    #  0          1          2          3       \n",
    "    # [17]  <->  [19]  <->  [23]  <->  [31]\n",
    "    #                        ⬆︎    ⬆︎\n",
    "    #                     BEFORE   Insert-Position\n",
    "    # for ease, use function iterate_to_position\n",
    "    before = self.iterate_to_position(index-1)\n",
    "    after = before.next\n",
    "    # 3. update the pointers.\n",
    "    before.next = node\n",
    "    after.prev = node\n",
    "    node.prev = before\n",
    "    node.next = after\n",
    "    # 4. increment the size\n",
    "    self.size += 1\n",
    "\n",
    "def iterate_to_position(self, index):\n",
    "    # iterate to the node at the given index.\n",
    "    # if we want a reference to the node at\n",
    "    # index 2, we start at the HEAD and move\n",
    "    # forward two spots from the HEAD\n",
    "    #  0          1          2          3       \n",
    "    # [17]  <->  [19]  <->  [23]  <->  [31]\n",
    "    #                        ⬆︎  \n",
    "    node = self.HEAD\n",
    "    for i in range(index):\n",
    "        node = node.next\n",
    "    return node\n",
    "```"
   ]
  },
  {
   "attachments": {},
   "cell_type": "markdown",
   "metadata": {},
   "source": [
    "## Contains\n",
    "\n",
    "After implementing insert, `contains` will be much shorter. `contains` returns `True` if an key is in the list and `False` otherwise.\n",
    "\n",
    "To implement contains, we have to iterate through the list, checking to see any of the elements match the `key`. This is linear search!"
   ]
  },
  {
   "attachments": {},
   "cell_type": "markdown",
   "metadata": {},
   "source": [
    "```python\n",
    "def contains(self, key):\n",
    "    # guard against an empty list\n",
    "    if self.is_empty():\n",
    "        return False\n",
    "    node = self.HEAD\n",
    "    while True:\n",
    "        # check each element\n",
    "        if node.element == key:\n",
    "            return True\n",
    "        # if we are at the tail, stop\n",
    "        if node == self.TAIL:\n",
    "            break\n",
    "        # move to the next node\n",
    "        node = node.next\n",
    "    return False\n",
    "```"
   ]
  },
  {
   "attachments": {},
   "cell_type": "markdown",
   "metadata": {},
   "source": [
    "## Get  (You will implement)\n",
    "\n",
    "`get` returns the element at a given `index`.\n",
    "\n",
    "Since a linked list only has references to the `HEAD` and `TAIL`, we need to start at the `HEAD` and iterate to the `index` in order to return that element.\n",
    "\n",
    "This is another function that I will leave to you to implement."
   ]
  },
  {
   "attachments": {},
   "cell_type": "markdown",
   "metadata": {},
   "source": [
    "```python\n",
    "def get(self, index):\n",
    "    # You will implement this\n",
    "```"
   ]
  },
  {
   "attachments": {},
   "cell_type": "markdown",
   "metadata": {},
   "source": [
    "## Remove\n",
    "\n",
    "`remove` takes an element and removes it from the list.\n",
    "\n",
    "Just like `insert`, we have three cases to consider:\n",
    "\n",
    "- The element is in the `HEAD` of the list\n",
    "    - we will implement this as `remove_first`, as in remove the first element\n",
    "- The element is in the middle of the list\n",
    "    - this is our general remove\n",
    "- The element is in the `TAIL` of the tail\n",
    "    - we will implement this as `remove_last`"
   ]
  },
  {
   "attachments": {},
   "cell_type": "markdown",
   "metadata": {},
   "source": [
    "### Remove First\n",
    "\n",
    "To remove the first element in the list, we need to:\n",
    "\n",
    "1. Move the `HEAD` forward to the next node\n",
    "2. Break the pointers between the previous head and the new head\n",
    "3. Decrement the size of the list"
   ]
  },
  {
   "attachments": {},
   "cell_type": "markdown",
   "metadata": {},
   "source": [
    "<img src = \"figures/ll-remove-first.jpeg\" width = \"60%\">"
   ]
  },
  {
   "attachments": {},
   "cell_type": "markdown",
   "metadata": {},
   "source": [
    "This all assumes that there are multiple elements in the list. If there is only a single element in the list, there is nothing to move the HEAD forward to. We can handle this as a special case.\n",
    "\n",
    "If the list only has one element, set both the `HEAD` and `TAIL` to `None` and the `size` to `0`.\n",
    "\n",
    "Likewise, as a second special case, if the list is empty, do nothing."
   ]
  },
  {
   "attachments": {},
   "cell_type": "markdown",
   "metadata": {},
   "source": [
    "### Remove First Implementation\n"
   ]
  },
  {
   "attachments": {},
   "cell_type": "markdown",
   "metadata": {},
   "source": [
    "\n",
    "```python\n",
    "def remove_first(self):\n",
    "    if self.size == 0:\n",
    "        return # empty list, do nothing\n",
    "    if self.size == 1:\n",
    "            self.HEAD = None\n",
    "            self.TAIL = None\n",
    "            self.size -= 1\n",
    "            return\n",
    "    # move head forward, remembering previous head\n",
    "    prev_head = self.HEAD\n",
    "    self.HEAD = self.HEAD.next\n",
    "    # break pointers\n",
    "    prev_head.next = None\n",
    "    self.HEAD.prev = None\n",
    "    # decrement size\n",
    "    self.size -= 1\n",
    "```"
   ]
  },
  {
   "attachments": {},
   "cell_type": "markdown",
   "metadata": {},
   "source": [
    "### Remove Last (You will implement)\n",
    "\n",
    "This operation mirrors `remove_first`. I will leave it to you to implement this.\n",
    "\n",
    "```python\n",
    "def remove_last(self):\n",
    "    # You will implement this\n",
    "```"
   ]
  },
  {
   "attachments": {},
   "cell_type": "markdown",
   "metadata": {},
   "source": [
    "## General Remove (You will implement)\n",
    "\n",
    "`remove` takes in an element and removes the first instance of it from the list.\n",
    "\n",
    "It is similar to general insert except that rather than iterating to a particular spot to perform the insertion, we must iterate to the element we want to remove. \n",
    "\n",
    "To remove an element from the list, you need to:\n",
    "\n",
    "1. Iterate to the element\n",
    "2. Update the pointers of the nodes on either side of it so that they point to each other rather than it.\n",
    "3. Decrement the size of the list.\n",
    "\n",
    "You will implement this function. As we've done throughout this notebook, I recommend that you draw out an example to refer to as you implement it. This is a great strategy not only for linked lists, but also for any data structure or algorithm that you are working to comprehend!\n",
    "\n",
    "```python\n",
    "def remove(self, element):\n",
    "    # You will implement this\n",
    "```"
   ]
  },
  {
   "attachments": {},
   "cell_type": "markdown",
   "metadata": {},
   "source": [
    "# Runtime\n",
    "\n",
    "We have been deep in the details of implementing the operations for a Linked List. Let's step back and consider the runtimes of our operations.\n",
    "\n"
   ]
  },
  {
   "attachments": {},
   "cell_type": "markdown",
   "metadata": {},
   "source": [
    "We have covered the following operations:\n",
    "\n",
    "- Insertion\n",
    "    - append\n",
    "    - prepend\n",
    "    - insert\n",
    "- contains\n",
    "- get\n",
    "- Removal\n",
    "    - remove_first\n",
    "    - remove_last\n",
    "    - remove"
   ]
  },
  {
   "attachments": {},
   "cell_type": "markdown",
   "metadata": {},
   "source": [
    "#### Append\n",
    "\n",
    "$O(1)$ because we only need to perform the same set number of steps, no matter the size of the list\n",
    "\n",
    "#### Prepend\n",
    "\n",
    "$O(1)$ for same reason as append\n",
    "\n",
    "#### Arbitrary Insertion\n",
    "\n",
    "$O(n)$ because we have to iterate through the list to perform insertion at an arbitrary index.\n",
    "\n",
    "#### Contains\n",
    "\n",
    "$O(n)$ because we have to perform a linear search starting from the head.\n",
    "\n",
    "#### Access at an index\n",
    "\n",
    "$O(n)$ because we have to start at the head and iterate to this index.\n",
    "\n",
    "#### Remove First\n",
    "\n",
    "$O(1)$. Like append and prepend, removing the first element only requires the same set number of steps, no matter the size of the list.\n",
    "\n",
    "#### Remove Last\n",
    "\n",
    "$O(1)$, same as remove first.\n",
    "\n",
    "#### General Removal\n",
    "\n",
    "$O(n)$ because we have to iterate to the element to remove before removing it.\n",
    "\n",
    "## Strengths and weaknesses\n",
    "\n",
    "Linked Lists are very efficient for inserting or removing from the beginning or end of the list.\n",
    "\n",
    "This fact is exploited to build other data structures (Stacks and Queues).\n",
    "\n",
    "Linked Linked lists are not efficient for inserting, accessing, or removing elements in the middle of the list.\n"
   ]
  },
  {
   "attachments": {},
   "cell_type": "markdown",
   "metadata": {},
   "source": [
    "# Linked List Code\n",
    "\n",
    "Here is the implementation for a Linked List that we have built so far. Implementing the stubbed out methods will be a part of the next lab."
   ]
  },
  {
   "cell_type": "code",
   "execution_count": null,
   "metadata": {},
   "outputs": [],
   "source": [
    "class Node:\n",
    "    def __init__(self, element):\n",
    "        \"\"\"\n",
    "        Construct a Node\n",
    "\n",
    "        Parameters\n",
    "        ----------\n",
    "        element : AnyType\n",
    "            An element to be stored in a Linked List\n",
    "        \"\"\"\n",
    "        self.element = element\n",
    "        # Create two attributes, next and prev and initialize them\n",
    "        # to be None\n",
    "        # These are set when a None is added to a Linked List\n",
    "        self.next = None\n",
    "        self.prev = None\n",
    "\n",
    "    def __str__(self):\n",
    "        if self.next == None:\n",
    "            return \"[{}]\".format(self.element)\n",
    "        else:\n",
    "            return \"[{}]<->\".format(self.element)\n",
    "\n",
    "class LinkedList:\n",
    "    def __init__(self):\n",
    "        self.size = 0\n",
    "        self.HEAD = None\n",
    "        self.TAIL = None\n",
    "\n",
    "    def is_empty(self):\n",
    "        return self.size == 0\n",
    "\n",
    "    def __str__(self):\n",
    "        node = self.HEAD\n",
    "        list_str = \"\"\n",
    "        while True:\n",
    "            # concatenate the string for each node\n",
    "            list_str += str(node)\n",
    "            # if we are at the tail, stop\n",
    "            if node == self.TAIL:\n",
    "                break\n",
    "            # move to the next node\n",
    "            node = node.next\n",
    "        return list_str\n",
    "\n",
    "    def append(self, element):\n",
    "        node = Node(element)\n",
    "        if self.is_empty():\n",
    "            self.HEAD = node\n",
    "            self.TAIL = node\n",
    "        else:\n",
    "            node.prev = self.TAIL\n",
    "            self.TAIL.next = node\n",
    "            self.TAIL = node\n",
    "        self.size += 1\n",
    "\n",
    "    def prepend(self, element):\n",
    "        # TO-DO\n",
    "        # Implement this\n",
    "        # Insert this element at the HEAD of the list\n",
    "        pass\n",
    "\n",
    "    def insert(self, element, index):\n",
    "        # Handle the special cases of \n",
    "        # inserting at index 0\n",
    "        if(index == 0):\n",
    "            self.prepend(element)\n",
    "            return\n",
    "        # or inserting after the tail\n",
    "        if(index == self.size):\n",
    "            self.append(element)\n",
    "            return\n",
    "        \n",
    "        # otherwise, general case\n",
    "        # Create the new node\n",
    "        node = Node(element)\n",
    "        # iterate to the node before the insertion position.\n",
    "        # if we want to insert at index 3, we need a reference\n",
    "        # to the node at index 2\n",
    "        #  0          1          2          3       \n",
    "        # [17]  <->  [19]  <->  [23]  <->  [31]\n",
    "        #                        ⬆︎    ⬆︎\n",
    "        #                     BEFORE   Insert-Position\n",
    "        # for ease, use function iterate_to_position\n",
    "        before = self.iterate_to_position(index-1)\n",
    "        after = before.next\n",
    "        # update the pointers.\n",
    "        before.next = node\n",
    "        after.prev = node\n",
    "        node.prev = before\n",
    "        node.next = after\n",
    "        # increment the size\n",
    "        self.size += 1\n",
    "\n",
    "    def iterate_to_position(self, index):\n",
    "        # iterate to the node at the given index.\n",
    "        # if we want a reference to the node at\n",
    "        # index 2, we start at the HEAD and move\n",
    "        # forward two spots from the HEAD\n",
    "        #  0          1          2          3       \n",
    "        # [17]  <->  [19]  <->  [23]  <->  [31]\n",
    "        #                        ⬆︎  \n",
    "        node = self.HEAD\n",
    "        for i in range(index):\n",
    "            node = node.next\n",
    "        return node\n",
    "\n",
    "    def contains(self, key):\n",
    "        # guard against an empty list\n",
    "        if self.is_empty():\n",
    "            return False\n",
    "        node = self.HEAD\n",
    "        while True:\n",
    "            # check each element\n",
    "            if node.element == key:\n",
    "                return True\n",
    "            # if we are at the tail, stop\n",
    "            if node == self.TAIL:\n",
    "                break\n",
    "            # move to the next node\n",
    "            node = node.next\n",
    "        return False\n",
    "\n",
    "    def get(self, index):\n",
    "        # TO-DO\n",
    "        # Implement this\n",
    "        pass\n",
    "\n",
    "    def remove_first(self):\n",
    "        if self.size == 0:\n",
    "            return # empty list, do nothing\n",
    "        if self.size == 1:\n",
    "            self.HEAD = None\n",
    "            self.TAIL = None\n",
    "            self.size -= 1\n",
    "            return\n",
    "        # move head forward, remembering previous head\n",
    "        prev_head = self.HEAD\n",
    "        self.HEAD = self.HEAD.next\n",
    "        # break pointers\n",
    "        prev_head.next = None\n",
    "        self.HEAD.prev = None\n",
    "        # decrement size\n",
    "        self.size -= 1\n",
    "\n",
    "    def remove_last(self):\n",
    "        # TO-DO\n",
    "        # Implement this\n",
    "        # remove the element at the TAIL of the list\n",
    "        pass\n",
    "\n",
    "    def remove(self, element):\n",
    "        # TO-DO\n",
    "        # Implement this\n",
    "        # remove the first instance of this element from the list\n",
    "        pass"
   ]
  }
 ],
 "metadata": {
  "kernelspec": {
   "display_name": "Python 3",
   "language": "python",
   "name": "python3"
  },
  "language_info": {
   "codemirror_mode": {
    "name": "ipython",
    "version": 3
   },
   "file_extension": ".py",
   "mimetype": "text/x-python",
   "name": "python",
   "nbconvert_exporter": "python",
   "pygments_lexer": "ipython3",
   "version": "3.9.6"
  },
  "orig_nbformat": 4,
  "vscode": {
   "interpreter": {
    "hash": "7812ea015bdcee6f23a998adcdd2ef97c151c0c241b7b7070987d9313e41299d"
   }
  }
 },
 "nbformat": 4,
 "nbformat_minor": 2
}
