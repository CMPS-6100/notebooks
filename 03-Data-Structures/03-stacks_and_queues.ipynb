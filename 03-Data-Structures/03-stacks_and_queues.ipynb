{
 "cells": [
  {
   "cell_type": "markdown",
   "metadata": {},
   "source": [
    "# Stacks and Queues"
   ]
  },
  {
   "attachments": {},
   "cell_type": "markdown",
   "metadata": {},
   "source": [
    "## Stacks"
   ]
  },
  {
   "attachments": {},
   "cell_type": "markdown",
   "metadata": {},
   "source": [
    "A **Stack** is a simple data structure. It follows a deceptively simple rule and supports a very limited set of operations.\n",
    "\n",
    "> Simplicity, by the way, should be one of our ideals as computer scientists and problem solvers. Simplicity leads to beautiful and easy solutions.\n",
    "\n",
    "Stacks are used, due to their simplicity and efficiency (as we will see) throughout computer science and are in fact fundamental to how programs operate. The name of the website [stackoverflow.com](https://stackoverflow.com/) is an homage and direct reference to this role! We'll talk about this later. For now, let's learn what a stack is.\n"
   ]
  },
  {
   "cell_type": "markdown",
   "metadata": {},
   "source": [
    "\n",
    "A **stack** follows the simple rule that the last element that was \"pushed\" onto the stack will be the next element that is retrieved from it. At any given time, one can only retrieve the last element added to the stack. In this way, it operates like a stack of plates or a stack of papers, hence the name.\n",
    "\n",
    "Stacks support operations:\n",
    "\n",
    "- `push`: add an element to the top of the stack\n",
    "- `pop`: remove and retrieve the element from the top of the stack\n",
    "- `top`: returns the element on the top of the stack but doesn't remove it"
   ]
  },
  {
   "attachments": {},
   "cell_type": "markdown",
   "metadata": {},
   "source": [
    "### Example Behavior of a Stack\n",
    "\n",
    "Suppose we have an empty stack and push 1, then 2, and 3 onto it.\n",
    "\n",
    "It will look like:\n",
    "\n",
    "```\n",
    "-----\n",
    "| 3 |\n",
    "-----\n",
    "| 2 |\n",
    "-----\n",
    "| 1 |\n",
    "-----\n",
    "```\n",
    "\n",
    "If we then pop an element off of it, we 3 and are are left with the stack:\n",
    "\n",
    "```\n",
    "-----\n",
    "| 2 |\n",
    "-----\n",
    "| 1 |\n",
    "-----\n",
    "```\n",
    "\n",
    "Likewise, the next element we pop off of the stack will be 2 leaving:\n",
    "\n",
    "```\n",
    "-----\n",
    "| 1 |\n",
    "-----\n",
    "```\n",
    "\n",
    "If we pop one more time, we get 1 back and are left with an empty stack:\n",
    "\n",
    "```\n",
    "-----\n",
    "-----\n",
    "```\n",
    "\n",
    "You might note that when we pop'd the elements back off the the stack we got them back in reverse order.\n",
    "\n",
    "Yes, simple. That's all there is to it."
   ]
  },
  {
   "attachments": {},
   "cell_type": "markdown",
   "metadata": {},
   "source": [
    "### Implementing a Stack\n",
    "\n",
    "In the last notebook, we spent some effort and brain energy designing a Linked List. Now it comes to fruition!\n",
    "\n",
    "You probably recall that in a linked list, we have $O(1)$ operations for inserting and removing from the beginning or end of the list.\n",
    "\n",
    "We can use this to our advantange to implement a Stack. We can pick an end of the Linked List, and if we always insert and remove from there, we will achieve the Stack behavior, achieving $O(1)$ runtimes for all stack operations."
   ]
  },
  {
   "attachments": {},
   "cell_type": "markdown",
   "metadata": {},
   "source": [
    "```  python\n",
    "class Stack:\n",
    "    def __init__(self):\n",
    "        self.stack = LinkedList()\n",
    "    \n",
    "    def is_empty(self):\n",
    "        return self.stack.size == 0\n",
    "\n",
    "    def push(self, element):\n",
    "        # TO-DO\n",
    "        # Implement this\n",
    "        pass\n",
    "\n",
    "    def pop(self):\n",
    "        # TO-DO\n",
    "        # Implement this\n",
    "        pass\n",
    "\n",
    "    def top(self):\n",
    "        # TO-DO\n",
    "        # Implement this\n",
    "        pass\n",
    "```"
   ]
  },
  {
   "attachments": {},
   "cell_type": "markdown",
   "metadata": {},
   "source": [
    "## Queues\n",
    "\n",
    "A basic **Queue** is another simple data structure.\n",
    "\n",
    "A **queue** operates like a line at the store. The first person in line will be the next person served. Likewise, the first element added to a queue will be the first element removed from it.\n",
    "\n",
    "Queues are imminently useful anytime we need to order tasks or jobs. Your Operating System of your computer uses queues to determine the order in which the programs running on your computer will get time on your CPU. Many algorithms use queues to determine the order in which perform tasks."
   ]
  },
  {
   "attachments": {},
   "cell_type": "markdown",
   "metadata": {},
   "source": [
    "Basic operations for a Queue are:\n",
    "\n",
    "- `add`: insert a new element at the end of the queue\n",
    "- `poll`: remove and return the element from the beginning of the queue\n",
    "- `peek`: return the next element that will be removed from the queue"
   ]
  },
  {
   "attachments": {},
   "cell_type": "markdown",
   "metadata": {},
   "source": [
    "### Implementing a Queue\n",
    "\n",
    "Just as we did for our Stack, we can use a Linked List to achieve an efficient implementation for a queue.\n",
    "\n",
    "``` python\n",
    "class Queue:\n",
    "    def __init__(self):\n",
    "        self.queue = LinkedList()\n",
    "    \n",
    "    def is_empty(self):\n",
    "        return self.queue.size == 0\n",
    "\n",
    "    def push(self, element):\n",
    "        # TO-DO\n",
    "        # Implement this\n",
    "        pass\n",
    "\n",
    "    def poll(self):\n",
    "        # TO-DO\n",
    "        # Implement this\n",
    "        pass\n",
    "\n",
    "    def peek(self):\n",
    "        # TO-DO\n",
    "        # Implement this\n",
    "        pass\n",
    "```"
   ]
  },
  {
   "attachments": {},
   "cell_type": "markdown",
   "metadata": {},
   "source": [
    "# Coming Up\n",
    "\n",
    "Stacks and Queues on their own are very useful. In addition to the cases stated in this notebook, we will use both of these data structures to help us explore graphs."
   ]
  }
 ],
 "metadata": {
  "kernelspec": {
   "display_name": "Python 3.9.6 64-bit",
   "language": "python",
   "name": "python3"
  },
  "language_info": {
   "name": "python",
   "version": "3.9.6"
  },
  "orig_nbformat": 4,
  "vscode": {
   "interpreter": {
    "hash": "aee8b7b246df8f9039afb4144a1f6fd8d2ca17a180786b69acc140d282b71a49"
   }
  }
 },
 "nbformat": 4,
 "nbformat_minor": 2
}
